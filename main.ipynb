import gradio as gr
from transformers import pipeline
import pytesseract
from PIL import Image
import numpy as np
import os

from fpdf import FPDF
import docx

# Disable TensorFlow
os.environ["TRANSFORMERS_NO_TF"] = "1"

# Load summarizer
summarizer = pipeline("summarization", model="sshleifer/distilbart-cnn-12-6")

# Text extraction from image
def extract_text_from_image(image_input):
    try:
        image = Image.fromarray(image_input.astype('uint8')) if isinstance(image_input, np.ndarray) else Image.open(image_input)
        return pytesseract.image_to_string(image)
    except Exception as e:
        return f"Error reading image: {e}"

# Summarization logic
def summarize_content(text_input, webcam_input, word_limit):
    content = ""

    if webcam_input is not None:
        content = extract_text_from_image(webcam_input)
    elif text_input:
        content = text_input
    else:
        return "⚠️ Please provide text or image.", None

    if content.strip() == "":
        return "⚠️ No content extracted.", None

    max_len = int(word_limit * 1.5)
    min_len = int(word_limit * 0.5)

    try:
        summary = summarizer(content, max_length=max_len, min_length=min_len, do_sample=False)[0]['summary_text']
        return summary, None
    except Exception as e:
        return f"❌ Summarization error: {e}", None

# File download function
def download_summary(summary_text, format_choice):
    if not summary_text.strip():
        return None

    filename = "summary"
    filepath = ""

    if format_choice == ".txt":
        filepath = f"{filename}.txt"
        with open(filepath, "w", encoding="utf-8") as f:
            f.write(summary_text)

    elif format_choice == ".pdf":
        filepath = f"{filename}.pdf"
        pdf = FPDF()
        pdf.add_page()
        pdf.set_auto_page_break(auto=True, margin=15)
        pdf.set_font("Arial", size=12)
        for line in summary_text.split('\n'):
            pdf.multi_cell(0, 10, line)
        pdf.output(filepath)

    elif format_choice == ".docx":
        filepath = f"{filename}.docx"
        doc = docx.Document()
        doc.add_paragraph(summary_text)
        doc.save(filepath)

    return filepath

# Reset function
def reset_fields():
    return "", None, 100, ".txt", "", None

# Gradio interface
with gr.Blocks() as demo:
    gr.HTML("""
        <h2 style='text-align: center;'>📝 Documentation to Summary Converter</h2>
        <style>
            #summarize-btn button {
                background-color: green !important;
                color: white !important;
            }
            #cancel-btn button {
                background-color: red !important;
                color: white !important;
            }
            #download-container {
                display: flex;
                justify-content: flex-end;
                margin-top: 10px;
            }
        </style>
    """)

    with gr.Row():
        with gr.Column(scale=1):
            gr.Markdown("### 🔽 Input Section")
            text_input = gr.Textbox(label="✍️ Paste Text", lines=5, placeholder="Enter your text here...")
            webcam_input = gr.Image(label="📷 Capture or Upload Image", sources=["webcam", "upload"], type="numpy")
            word_limit = gr.Slider(label="🧮 Number of Words in Summary", minimum=30, maximum=300, value=100, step=10)

            with gr.Row():
                submit = gr.Button("🚀 Summarize", elem_id="summarize-btn")
                cancel = gr.Button("❌ Reset", elem_id="cancel-btn")

        with gr.Column(scale=1):
            gr.Markdown("### 📘 Summary Output")
            output = gr.Textbox(label="Summary", lines=12)

            gr.HTML('<div id="download-container">')
            download_btn = gr.Button("📥 Download Summary", elem_id="download-btn")
            gr.HTML('</div>')

            file_format = gr.Dropdown(label="🗂️ Choose File Format to Download", choices=[".txt", ".pdf", ".docx"], value=".txt")
            download_file = gr.File(label="Download Summary", interactive=True)

    # Button functionality
    submit.click(fn=summarize_content, inputs=[text_input, webcam_input, word_limit], outputs=[output, download_file])
    cancel.click(fn=reset_fields, inputs=[], outputs=[text_input, webcam_input, word_limit, file_format, output, download_file])
    download_btn.click(fn=download_summary, inputs=[output, file_format], outputs=[download_file])

# Launch the app
demo.launch()
